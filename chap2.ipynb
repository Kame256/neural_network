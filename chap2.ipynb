{
 "cells": [
  {
   "cell_type": "code",
   "execution_count": 33,
   "metadata": {},
   "outputs": [
    {
     "data": {
      "image/png": "[encoded data removed]",
      "text/plain": [
       "<Figure size 432x288 with 1 Axes>"
      ]
     },
     "metadata": {},
     "output_type": "display_data"
    }
   ],
   "source": [
    "%matplotlib inline\n",
    "import numpy as np\n",
    "import matplotlib.pyplot as plt\n",
    "\n",
    "#標準化する関数\n",
    "def standarize(x):\n",
    "    x_mean=x.mean()#平均\n",
    "    std=x.std() #標準偏差\n",
    "    return (x-x_mean)/std#標準化\n",
    "\n",
    "#回帰直線を求める\n",
    "def f(x_std,w_0,w_1): \n",
    "    return w_0+w_1*x_std\n",
    "data = np.loadtxt(fname='sales.csv',  # 読み込むファイル名\n",
    "                  dtype='int',        # データ型を指定\n",
    "                  delimiter=',',      # 区切り文字を指定\n",
    "                  skiprows=1          # 1行目のタイトルを読み飛ばす\n",
    "                  )\n",
    "train_x = data[:,0]                   # 1列目の成分をxに代入\n",
    "train_y = data[:,1]                   # 2列目の成分をyに代入\n",
    "\n",
    "plt.plot(train_x,                     # x軸に割り当てるデータ\n",
    "         train_y,                     # y軸に割り当てるデータ\n",
    "         'o'                          # x,yの交点にドット(丸印)をプロットする\n",
    "         ) \n",
    "plt.show()               \n"
   ]
  }
 ],
 "metadata": {
  "kernelspec": {
   "display_name": "Python 3",
   "language": "python",
   "name": "python3"
  },
  "language_info": {
   "codemirror_mode": {
    "name": "ipython",
    "version": 3
   },
   "file_extension": ".py",
   "mimetype": "text/x-python",
   "name": "python",
   "nbconvert_exporter": "python",
   "pygments_lexer": "ipython3",
   "version": "3.6.4"
  }
 },
 "nbformat": 4,
 "nbformat_minor": 2
}
