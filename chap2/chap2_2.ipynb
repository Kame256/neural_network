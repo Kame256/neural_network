{
 "cells": [
  {
   "cell_type": "code",
   "execution_count": 1,
   "metadata": {},
   "outputs": [],
   "source": [
    "import numpy as np\n",
    "import matplotlib.pyplot as plt\n",
    "\n",
    "\n",
    "def standarize(x):\n",
    "    x_mean=x.mean()#平均\n",
    "    std=x.std() #標準偏差\n",
    "    return (x-x_mean)/std#標準化\n",
    "\n",
    "def create_matrix(x_std):# tX*w\n",
    "    return np.vstack([np.ones(x_std.size),\n",
    "    x_std,\n",
    "    x_std**2\n",
    "    ]).T #.Tが転置\n",
    "\n",
    "def matrix_f(matrix_x,parameter):#a1*b1+12*b2+a3*b3\n",
    "    return np.dot(matrix_x,parameter)#numpy.dotは内積（一次）、行列積（多次元）\n",
    "\n",
    "def matrix_E(matrix_x,y,parameter):#parameterはw0,w1,w2\n",
    "    return 0.5*np.sum((y-matrix_f(matrix_x,parameter))**2)\n",
    "\n",
    "def polynomial_regression(matrix_x,y):\n",
    "    parameter=np.random.randint(0,50,3)\n",
    "    LNR=1e-3#学習率\n",
    "    defference=1\n",
    "    count=1#更新回数\n",
    "    err_before=matrix_E(matrix_x,y,parameter)\n",
    "    log=\"({}) parameter:{} error :{:.4f}\"\n",
    "    while defference>1e-2:\n",
    "        #w0,w1,w2を更新する\n",
    "        parameter=parameter-LNR*np.dot(matrix_f(matrix_x,parameter)-y,matrix_x)\n",
    "        err_after=matrix_E(matrix_x,y,parameter)\n",
    "        defference=err_before-err_after\n",
    "        err_before=err_after\n",
    "        if count==1 or count%100==0:\n",
    "            print(log.format(count,parameter,defference))\n",
    "        count+=1\n",
    "    print(log.format(count,parameter,defference))\n",
    "    return parameter\n",
    "\n",
    "\n"
   ]
  },
  {
   "cell_type": "code",
   "execution_count": 2,
   "metadata": {
    "scrolled": false
   },
   "outputs": [
    {
     "name": "stdout",
     "output_type": "stream",
     "text": [
      "(1) parameter:[29.001      18.31896272 62.36377805] error :1263693.9921\n",
      "(100) parameter:[840.6567314  261.95662666 284.412027  ] error :14725.2336\n",
      "(200) parameter:[1060.45304839  286.93876837  162.03634848] error :2528.3077\n",
      "(300) parameter:[1152.93295048  285.57690433  108.98899819] error :458.0919\n",
      "(400) parameter:[1192.2931107   283.39613824   86.34013261] error :83.4380\n",
      "(500) parameter:[1209.08038017  282.25303961   76.67127488] error :15.2054\n",
      "(600) parameter:[1216.24482365  281.73691646   72.54361941] error :2.7711\n",
      "(700) parameter:[1219.30306403  281.51285156   70.78151474] error :0.5050\n",
      "(800) parameter:[1220.60859666  281.416703     70.02926859] error :0.0920\n",
      "(900) parameter:[1221.16592641  281.37559137   69.70813315] error :0.0168\n",
      "(932) parameter:[1221.26221269  281.36848575   69.65265252] error :0.0099\n"
     ]
    }
   ],
   "source": [
    "data=np.loadtxt(\"sales.csv\",dtype=\"int\",delimiter=\",\",skiprows=1)\n",
    "x=data[:,0]\n",
    "y=data[:,1]\n",
    "x_std=standarize(x)\n",
    "matrix_x=create_matrix(x_std)\n",
    "parameter=polynomial_regression(matrix_x,y)\n"
   ]
  },
  {
   "cell_type": "code",
   "execution_count": 3,
   "metadata": {
    "scrolled": true
   },
   "outputs": [
    {
     "data": {
      "text/plain": [
       "<function matplotlib.pyplot.show(*args, **kw)>"
      ]
     },
     "execution_count": 3,
     "metadata": {},
     "output_type": "execute_result"
    },
    {
     "data": {
      "image/png": "[encoded data removed]",
      "text/plain": [
       "<Figure size 432x288 with 1 Axes>"
      ]
     },
     "metadata": {
      "needs_background": "light"
     },
     "output_type": "display_data"
    }
   ],
   "source": [
    "x_axis=np.linspace(start=-3,stop=3,num=100)\n",
    "plt.ylim(300,2500)\n",
    "plt.plot(x_std,y,'o')\n",
    "plt.plot(x_axis,matrix_f(create_matrix(x_axis),parameter))\n",
    "plt.grid(True)\n",
    "plt.show"
   ]
  },
  {
   "cell_type": "code",
   "execution_count": null,
   "metadata": {},
   "outputs": [],
   "source": []
  }
 ],
 "metadata": {
  "kernelspec": {
   "display_name": "Python 3",
   "language": "python",
   "name": "python3"
  },
  "language_info": {
   "codemirror_mode": {
    "name": "ipython",
    "version": 3
   },
   "file_extension": ".py",
   "mimetype": "text/x-python",
   "name": "python",
   "nbconvert_exporter": "python",
   "pygments_lexer": "ipython3",
   "version": "3.7.3"
  }
 },
 "nbformat": 4,
 "nbformat_minor": 2
}
