{
 "cells": [
  {
   "cell_type": "code",
   "execution_count": 24,
   "metadata": {
    "scrolled": false
   },
   "outputs": [
    {
     "name": "stdout",
     "output_type": "stream",
     "text": [
      "[-1. -1. -1. -1. -1.  1.  1.  1. -1.  1.  1.  1.  1. -1.  1.  1.  1. -1.\n",
      " -1.  1.]\n",
      "1 cla\n",
      "-1.0 ele_t\n",
      "更新後のw= [ -40.43814283 -207.60747596]\n",
      "-1 cla\n",
      "1.0 ele_t\n",
      "更新後のw= [448.56185717 191.39252404]\n",
      "1 cla\n",
      "-1.0 ele_t\n",
      "更新後のw= [ 200.56185717 -253.60747596]\n",
      "-1 cla\n",
      "1.0 ele_t\n",
      "更新後のw= [611.56185717  82.39252404]\n",
      "1 cla\n",
      "-1.0 ele_t\n",
      "更新後のw= [ 197.56185717 -365.60747596]\n",
      "-1 cla\n",
      "1.0 ele_t\n",
      "更新後のw= [615.56185717 -50.60747596]\n",
      "1 cla\n",
      "-1.0 ele_t\n",
      "更新後のw= [ 221.56185717 -481.60747596]\n",
      "[1回目] :=[ 221.56185717 -481.60747596]***\n",
      "-1 cla\n",
      "1.0 ele_t\n",
      "更新後のw= [710.56185717 -82.60747596]\n",
      "1 cla\n",
      "-1.0 ele_t\n",
      "更新後のw= [ 462.56185717 -527.60747596]\n",
      "[2回目] :=[ 462.56185717 -527.60747596]***\n",
      "[3回目] :=[ 462.56185717 -527.60747596]***\n",
      "[4回目] :=[ 462.56185717 -527.60747596]***\n",
      "[5回目] :=[ 462.56185717 -527.60747596]***\n"
     ]
    }
   ],
   "source": [
    "%matplotlib inline\n",
    "import numpy as np\n",
    "import matplotlib.pyplot as plt\n",
    "\n",
    "def And(x1,x2):\n",
    "    x1_x2=np.array([x1,x2])\n",
    "    w0=-0.8\n",
    "    w1_w2=np.array([0.5,0.5])\n",
    "    tmp=w0+np.sum(w1_w2*x1_x2)\n",
    "    if tmp<=0:\n",
    "        return 0\n",
    "    elif tmp>0:\n",
    "        return 1\n",
    "\n",
    "def Nand(x1,x2):\n",
    "    x1_x2=np.array([x1,x2])\n",
    "    w0=0.8\n",
    "    w1_w2=np.array([-0.5,-0.5])\n",
    "    tmp=w0+np.sum(w1_w2*x1_x2)\n",
    "    if tmp<=0:\n",
    "        return 0\n",
    "    elif tmp>0:\n",
    "        return 1\n",
    "    \n",
    "def Or(x1,x2):\n",
    "    x1_x2=np.array([x1,x2])\n",
    "    w0=-0.4\n",
    "    w1_w2=np.array([0.5,0.5])\n",
    "    tmp=w0+np.sum(w1_w2*x1_x2)\n",
    "    if tmp<=0:\n",
    "        return 0\n",
    "    elif tmp>0:\n",
    "        return 1\n",
    "\n",
    "def Xor(x1,x2):\n",
    "    _nand=Nand(x1,x2)\n",
    "    _or=Or(x1,x2)\n",
    "    _xor=And(_nand,_or)\n",
    "    return _xor\n",
    "\n",
    "\n",
    "def classify(x,w): #分類関数\n",
    "    #print(w,\"w\")\n",
    "    #print(x,\"x\")\n",
    "    #print(np.dot(w,x),\"wx\")\n",
    "    if np.dot(w,x)>=0:\n",
    "        return 1\n",
    "    else:\n",
    "        return -1\n",
    "\n",
    "def learn_weights(x,t):\n",
    "    w=np.random.rand(2)\n",
    "    loop=5\n",
    "    count=1\n",
    "    for i in range(loop):\n",
    "        for element_x,element_t in zip(x,t):\n",
    "            if classify(element_x,w) !=element_t:\n",
    "                print(classify(element_x,w),\"cla\")\n",
    "                print(element_t,\"ele_t\")\n",
    "                w=w+element_t*element_x\n",
    "                print(\"更新後のw=\",w)\n",
    "        print(\"[{}回目] :={}***\".format(count,w))\n",
    "        count+=1\n",
    "    return w\n",
    "\n",
    "\n",
    "data=np.loadtxt(\"MaleFemale.csv\",delimiter=\",\",skiprows=1)\n",
    "x=data[:,0:2]#男女データを読み取る\n",
    "t=data[:,2]#3列目を読み取る\n",
    "print(t)\n",
    "\n",
    "w=learn_weights(x,t)\n",
    "    \n",
    "\n",
    "    "
   ]
  },
  {
   "cell_type": "code",
   "execution_count": 19,
   "metadata": {
    "scrolled": true
   },
   "outputs": [
    {
     "data": {
      "image/png": "[encoded data removed]",
      "text/plain": [
       "<Figure size 432x288 with 1 Axes>"
      ]
     },
     "metadata": {
      "needs_background": "light"
     },
     "output_type": "display_data"
    }
   ],
   "source": [
    "x1=np.arange(0,600)\n",
    "plt.plot(x[t==1,0],x[t==1,1],\"x\")\n",
    "plt.plot(x[t==-1,0],x[t==-1,1],'o')\n",
    "plt.plot(x1,-w[0]/w[1]*x1,linestyle='solid')\n",
    "plt.show()"
   ]
  },
  {
   "cell_type": "code",
   "execution_count": null,
   "metadata": {},
   "outputs": [],
   "source": []
  }
 ],
 "metadata": {
  "kernelspec": {
   "display_name": "Python 3",
   "language": "python",
   "name": "python3"
  },
  "language_info": {
   "codemirror_mode": {
    "name": "ipython",
    "version": 3
   },
   "file_extension": ".py",
   "mimetype": "text/x-python",
   "name": "python",
   "nbconvert_exporter": "python",
   "pygments_lexer": "ipython3",
   "version": "3.7.3"
  }
 },
 "nbformat": 4,
 "nbformat_minor": 2
}
