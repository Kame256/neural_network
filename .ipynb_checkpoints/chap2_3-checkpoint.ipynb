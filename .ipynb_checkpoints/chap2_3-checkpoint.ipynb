{
 "cells": [
  {
   "cell_type": "code",
   "execution_count": 1,
   "metadata": {},
   "outputs": [],
   "source": [
    "import numpy as np\n",
    "import matplotlib.pyplot as plt\n",
    "\n",
    "\n",
    "def standarize(x):\n",
    "    x_mean=x.mean()#平均\n",
    "    std=x.std() #標準偏差\n",
    "    return (x-x_mean)/std#標準化\n",
    "\n",
    "def create_matrix(x_std):# tX*w\n",
    "    return np.vstack([np.ones(x_std.size),\n",
    "    x_std,\n",
    "    x_std**2\n",
    "    ]).T #.Tが転置\n",
    "\n",
    "def matrix_f(matrix_x,parameter):#a1*b1+12*b2+a3*b3\n",
    "    return np.dot(matrix_x,parameter)#numpy.dotは内積（一次）、行列積（多次元）\n",
    "\n",
    "def matrix_E(matrix_x,y,parameter):#parameterはw0,w1,w2\n",
    "    return 0.5*np.sum((y-matrix_f(matrix_x,parameter))**2)\n",
    "\n",
    "def MSE(matrix_x,y,parameter):\n",
    "    return 1/matrix_x.shape[0]*np.sum((y-matrix_f(matrix_x,parameter))**2)\n",
    "\n",
    "def polynomial_regression(matrix_x,y):\n",
    "    parameter=np.random.randint(0,50,3)\n",
    "    LNR=1e-3#学習率\n",
    "    defference=1\n",
    "    count=1#更新回数\n",
    "    err_before=matrix_E(matrix_x,y,parameter)\n",
    "    log=\"({}) parameter:{} error :{:.4f}\"\n",
    "    while defference>1e-2:\n",
    "        #インデックスをランダム生成(permutationがシャッフル)\n",
    "        p=np.random.permutation(matrix_x.shape[0])\n",
    "        #ランダム順に更新\n",
    "        for tmp_x,tmp_y in zip(matrix_x[p,:],y[p]):\n",
    "            parameter=parameter - LNR*(matrix_f(tmp_x,parameter)-tmp_y)*tmp_x\n",
    "        \n",
    "        #w0,w1,w2を更新する(従来)\n",
    "        #parameter=parameter-LNR*np.dot(matrix_f(matrix_x,parameter)-y,matrix_x)\n",
    "         \n",
    "        #更新後平均二乗誤差で求める\n",
    "        err_after=MSE(matrix_x,y,parameter)\n",
    "        \n",
    "        defference=err_before-err_after\n",
    "        err_before=err_after\n",
    "        if count==1 or count%100==0:\n",
    "            print(log.format(count,parameter,defference))\n",
    "        count+=1\n",
    "    print(log.format(count,parameter,defference))\n",
    "    return parameter\n",
    "\n",
    "\n"
   ]
  },
  {
   "cell_type": "code",
   "execution_count": 2,
   "metadata": {
    "scrolled": false
   },
   "outputs": [
    {
     "name": "stdout",
     "output_type": "stream",
     "text": [
      "(1) parameter:[72.05115381 24.1114648  43.64960314] error :14256433.1365\n",
      "(100) parameter:[856.64187742 261.11324094 274.328887  ] error :1350.9038\n",
      "(200) parameter:[1066.99085202  286.23086435  157.9083398 ] error :232.1863\n",
      "(300) parameter:[1155.65347535  285.24498714  107.34287988] error :42.0967\n",
      "(400) parameter:[1193.40387516  283.20996637   85.63332592] error :7.6786\n",
      "(500) parameter:[1209.55779389  282.15159701   76.38163347] error :1.4026\n",
      "(600) parameter:[1216.43531524  281.63926822   72.39704907] error :0.2649\n",
      "(700) parameter:[1219.3885211   281.43361512   70.70131966] error :0.0489\n",
      "(784) parameter:[1220.49604016  281.36571358   70.04810299] error :0.0098\n"
     ]
    }
   ],
   "source": [
    "data=np.loadtxt(\"sales.csv\",dtype=\"int\",delimiter=\",\",skiprows=1)\n",
    "x=data[:,0]\n",
    "y=data[:,1]\n",
    "x_std=standarize(x)\n",
    "matrix_x=create_matrix(x_std)\n",
    "parameter=polynomial_regression(matrix_x,y)\n"
   ]
  },
  {
   "cell_type": "code",
   "execution_count": 3,
   "metadata": {
    "scrolled": true
   },
   "outputs": [
    {
     "data": {
      "text/plain": [
       "<function matplotlib.pyplot.show(*args, **kw)>"
      ]
     },
     "execution_count": 3,
     "metadata": {},
     "output_type": "execute_result"
    },
    {
     "data": {
      "image/png": "[encoded data removed]",
      "text/plain": [
       "<Figure size 432x288 with 1 Axes>"
      ]
     },
     "metadata": {
      "needs_background": "light"
     },
     "output_type": "display_data"
    }
   ],
   "source": [
    "x_axis=np.linspace(start=-3,stop=3,num=100)\n",
    "plt.ylim(300,2500)\n",
    "plt.plot(x_std,y,'o')\n",
    "plt.plot(x_axis,matrix_f(create_matrix(x_axis),parameter))\n",
    "plt.grid(True)\n",
    "plt.show"
   ]
  },
  {
   "cell_type": "code",
   "execution_count": null,
   "metadata": {},
   "outputs": [],
   "source": []
  }
 ],
 "metadata": {
  "kernelspec": {
   "display_name": "Python 3",
   "language": "python",
   "name": "python3"
  },
  "language_info": {
   "codemirror_mode": {
    "name": "ipython",
    "version": 3
   },
   "file_extension": ".py",
   "mimetype": "text/x-python",
   "name": "python",
   "nbconvert_exporter": "python",
   "pygments_lexer": "ipython3",
   "version": "3.7.3"
  }
 },
 "nbformat": 4,
 "nbformat_minor": 2
}
