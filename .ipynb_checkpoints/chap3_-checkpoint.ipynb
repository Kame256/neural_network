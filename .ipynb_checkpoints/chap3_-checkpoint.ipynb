{
 "cells": [
  {
   "cell_type": "code",
   "execution_count": 13,
   "metadata": {},
   "outputs": [
    {
     "name": "stdout",
     "output_type": "stream",
     "text": [
      "1\n"
     ]
    }
   ],
   "source": [
    "import numpy as np\n",
    "\n",
    "def And(x1,x2):\n",
    "    x1_x2=np.array([x1,x2])\n",
    "    w0=-0.8\n",
    "    w1_w2=np.array([0.5,0.5])\n",
    "    tmp=w0+np.sum(w1_w2*x1_x2)\n",
    "    if tmp<=0:\n",
    "        return 0\n",
    "    elif tmp>0:\n",
    "        return 1\n",
    "\n",
    "def Nand(x1,x2):\n",
    "    x1_x2=np.array([x1,x2])\n",
    "    w0=0.8\n",
    "    w1_w2=np.array([-0.5,-0.5])\n",
    "    tmp=w0+np.sum(w1_w2*x1_x2)\n",
    "    if tmp<=0:\n",
    "        return 0\n",
    "    elif tmp>0:\n",
    "        return 1\n",
    "    \n",
    "def Or(x1,x2):\n",
    "    x1_x2=np.array([x1,x2])\n",
    "    w0=-0.4\n",
    "    w1_w2=np.array([0.5,0.5])\n",
    "    tmp=w0+np.sum(w1_w2*x1_x2)\n",
    "    if tmp<=0:\n",
    "        return 0\n",
    "    elif tmp>0:\n",
    "        return 1\n",
    "\n",
    "def Xor(x1,x2):\n",
    "    _nand=Nand(x1,x2)\n",
    "    _or=Or(x1,x2)\n",
    "    _xor=And(_nand,_or)\n",
    "    return _xor\n",
    "print(Xor(0,1))"
   ]
  }
 ],
 "metadata": {
  "kernelspec": {
   "display_name": "Python 3",
   "language": "python",
   "name": "python3"
  },
  "language_info": {
   "codemirror_mode": {
    "name": "ipython",
    "version": 3
   },
   "file_extension": ".py",
   "mimetype": "text/x-python",
   "name": "python",
   "nbconvert_exporter": "python",
   "pygments_lexer": "ipython3",
   "version": "3.7.3"
  }
 },
 "nbformat": 4,
 "nbformat_minor": 2
}
