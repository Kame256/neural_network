{
 "cells": [
  {
   "cell_type": "code",
   "execution_count": 30,
   "metadata": {},
   "outputs": [],
   "source": [
    "import numpy as np\n",
    "import matplotlib.pyplot as plt\n",
    "\n",
    "\n",
    "def standarize(x):\n",
    "    x_mean=x.mean()#平均\n",
    "    std=x.std() #標準偏差\n",
    "    return (x-x_mean)/std#標準化\n",
    "\n",
    "def create_matrix(x_std):# tX*w\n",
    "    return np.vstack([np.ones(x_std.size),\n",
    "    x_std,\n",
    "    x_std**2\n",
    "    ]).T #.Tが転置\n",
    "\n",
    "def matrix_f(matrix_x,parameter):#a1*b1+12*b2+a3*b3\n",
    "    return np.dot(matrix_x,parameter)#numpy.dotは内積（一次）、行列積（多次元）\n",
    "\n",
    "def matrix_E(matrix_x,y,parameter):#parameterはw0,w1,w2\n",
    "    return 0.5*np.sum((y-matrix_f(matrix_x,parameter))**2)\n",
    "\n",
    "def polynomial_regression(matrix_x,y):\n",
    "    parameter=np.random.randint(0,50,3)\n",
    "    LNR=1e-3#学習率\n",
    "    defference=1\n",
    "    count=1#更新回数\n",
    "    err_before=matrix_E(matrix_x,y,parameter)\n",
    "    log=\"({}) parameter:{} error :{:.4f}\"\n",
    "    while defference>1e-2:\n",
    "        #w0,w1,w2を更新する\n",
    "        parameter=parameter-LNR*np.dot(matrix_f(matrix_x,parameter)-y,matrix_x)\n",
    "        err_after=matrix_E(matrix_x,y,parameter)\n",
    "        defference=err_before-err_after\n",
    "        err_before=err_after\n",
    "        if count==1 or count%100==0:\n",
    "            print(log.format(count,parameter,defference))\n",
    "        count+=1\n",
    "    print(log.format(count,parameter,defference))\n",
    "    return parameter\n",
    "\n",
    "\n"
   ]
  },
  {
   "cell_type": "code",
   "execution_count": 31,
   "metadata": {
    "scrolled": true
   },
   "outputs": [
    {
     "name": "stdout",
     "output_type": "stream",
     "text": [
      "(1) parameter:[53.441      32.04339184 64.75432279] error :1204141.1669\n",
      "(100) parameter:[847.93454692 263.52080657 280.36648627] error :14129.3923\n",
      "(200) parameter:[1063.50378391  286.99225623  160.29049495] error :2433.0359\n",
      "(300) parameter:[1154.22925645  285.51817233  108.24362331] error :440.9610\n",
      "(400) parameter:[1192.84570773  283.3602478    86.02193029] error :80.3200\n",
      "(500) parameter:[1209.31617909  282.23628328   76.53543365] error :14.6372\n",
      "(600) parameter:[1216.34547265  281.72957288   72.48562851] error :2.6675\n",
      "(700) parameter:[1219.34602943  281.50969134   70.7567583 ] error :0.4861\n",
      "(800) parameter:[1220.62693844  281.41535055   70.01870002] error :0.0886\n",
      "(900) parameter:[1221.17375652  281.37501356   69.70362141] error :0.0161\n",
      "(930) parameter:[1221.26285513  281.36843834   69.65228234] error :0.0099\n"
     ]
    }
   ],
   "source": [
    "data=np.loadtxt(\"sales.csv\",dtype=\"int\",delimiter=\",\",skiprows=1)\n",
    "x=data[:,0]\n",
    "y=data[:,1]\n",
    "x_std=standarize(x)\n",
    "matrix_x=create_matrix(x_std)\n",
    "parameter=polynomial_regression(matrix_x,y)\n"
   ]
  },
  {
   "cell_type": "code",
   "execution_count": 33,
   "metadata": {},
   "outputs": [
    {
     "data": {
      "text/plain": [
       "<function matplotlib.pyplot.show(*args, **kw)>"
      ]
     },
     "execution_count": 33,
     "metadata": {},
     "output_type": "execute_result"
    },
    {
     "data": {
      "image/png": "[encoded data removed]",
      "text/plain": [
       "<Figure size 432x288 with 1 Axes>"
      ]
     },
     "metadata": {},
     "output_type": "display_data"
    }
   ],
   "source": [
    "x_axis=np.linspace(start=-3,stop=3,num=100)\n",
    "plt.ylim(300,2500)\n",
    "plt.plot(x_std,y,'o')\n",
    "plt.plot(x_axis,matrix_f(create_matrix(x_axis),parameter))\n",
    "plt.grid(True)\n",
    "plt.show"
   ]
  }
 ],
 "metadata": {
  "kernelspec": {
   "display_name": "Python 3",
   "language": "python",
   "name": "python3"
  },
  "language_info": {
   "codemirror_mode": {
    "name": "ipython",
    "version": 3
   },
   "file_extension": ".py",
   "mimetype": "text/x-python",
   "name": "python",
   "nbconvert_exporter": "python",
   "pygments_lexer": "ipython3",
   "version": "3.6.4"
  }
 },
 "nbformat": 4,
 "nbformat_minor": 2
}
